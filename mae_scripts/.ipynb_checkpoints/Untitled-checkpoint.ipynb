{
 "cells": [
  {
   "cell_type": "code",
   "execution_count": null,
   "id": "b5ea1a93-70b3-4e84-af5c-25dc2a65f825",
   "metadata": {
    "tags": []
   },
   "outputs": [],
   "source": [
    "import sys\n",
    "import torch\n",
    "\n",
    "sys.path.append('/home/local/ASUAD/yzhou298/github/mae')\n",
    "import models_mae\n",
    "\n",
    "def prepare_model(chkpt_dir, arch='mae_vit_large_patch16'):\n",
    "    # build model\n",
    "    model = getattr(models_mae, arch)()\n",
    "    # load model\n",
    "    checkpoint = torch.load(chkpt_dir, map_location='cuda')\n",
    "    msg = model.load_state_dict(checkpoint['model'], strict=False)\n",
    "    print(msg)\n",
    "    return model\n",
    "\n",
    "# chkpt_dir = 'mae_pretrain_vit_large.pth'\n",
    "chkpt_dir = 'mae_visualize_vit_large.pth'\n",
    "model_mae = prepare_model(chkpt_dir, 'mae_vit_large_patch16')\n",
    "print(model_mae)"
   ]
  },
  {
   "cell_type": "code",
   "execution_count": null,
   "id": "7f9f79f8-ac44-4410-8d92-540cbe53034c",
   "metadata": {
    "tags": []
   },
   "outputs": [],
   "source": [
    "print(model_mae.forward_encoder)"
   ]
  },
  {
   "cell_type": "code",
   "execution_count": null,
   "id": "a8f8efdd-c930-4919-8ab0-a14fe005b43f",
   "metadata": {},
   "outputs": [],
   "source": [
    "from PIL import Image\n",
    "import numpy as np\n",
    "\n",
    "img = Image.open(\"/home/local/ASUAD/yzhou298/Documents/dataset/extended_modattn/put_right_to/split1/0/0.png\")\n",
    "img = np.array(img)\n",
    "\n",
    "\n",
    "# latent, mask, ids_restore = model_mae.forward_encoder(imgs, mask_ratio)"
   ]
  }
 ],
 "metadata": {
  "kernelspec": {
   "display_name": "Python 3 (ipykernel)",
   "language": "python",
   "name": "python3"
  },
  "language_info": {
   "codemirror_mode": {
    "name": "ipython",
    "version": 3
   },
   "file_extension": ".py",
   "mimetype": "text/x-python",
   "name": "python",
   "nbconvert_exporter": "python",
   "pygments_lexer": "ipython3",
   "version": "3.9.12"
  }
 },
 "nbformat": 4,
 "nbformat_minor": 5
}
